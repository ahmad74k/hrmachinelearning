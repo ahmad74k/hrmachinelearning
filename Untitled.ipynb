{
 "cells": [
  {
   "cell_type": "code",
   "execution_count": 1,
   "id": "66511cc2-12c8-4e7e-ae15-7c51f3fca25b",
   "metadata": {},
   "outputs": [
    {
     "name": "stdout",
     "output_type": "stream",
     "text": [
      "  Employee ID  Department Education Level Attrition   Job Role  \\\n",
      "0     EMP2000     Finance             PhD        No    Manager   \n",
      "1     EMP2001  Operations        Master's       Yes    Analyst   \n",
      "2     EMP2002     Finance      Bachelor's        No    Manager   \n",
      "3     EMP2003   Marketing     High School       Yes  Associate   \n",
      "4     EMP2004     Finance     High School        No    Analyst   \n",
      "\n",
      "      Joining Date Monthly Salary  Performance Rating  Years at Company  \n",
      "0   3/26/2019 0:00      $143,169                    1                 2  \n",
      "1   4/13/2016 0:00       $77,777                    1                 6  \n",
      "2    3/9/2021 0:00      $128,901                    1                 7  \n",
      "3    2/9/2018 0:00       $69,881                    4                 1  \n",
      "4  10/28/2017 0:00       $41,044                    5                 6  \n"
     ]
    }
   ],
   "source": [
    "import pandas as pd\n",
    "from sklearn.model_selection import train_test_split\n",
    "from sklearn.ensemble import RandomForestClassifier\n",
    "from sklearn.metrics import accuracy_score, classification_report\n",
    "from sklearn.preprocessing import LabelEncoder\n",
    "\n",
    "# Load the data\n",
    "data = pd.read_csv('HR_Employee_Data_ml.csv')\n",
    "print(data.head())\n"
   ]
  },
  {
   "cell_type": "code",
   "execution_count": 17,
   "id": "f234636c-d41c-4edc-bf7d-d669373e3b3e",
   "metadata": {},
   "outputs": [
    {
     "name": "stderr",
     "output_type": "stream",
     "text": [
      "<>:17: SyntaxWarning: invalid escape sequence '\\$'\n",
      "<>:17: SyntaxWarning: invalid escape sequence '\\$'\n",
      "C:\\Users\\BI\\AppData\\Local\\Temp\\ipykernel_11024\\2871275165.py:17: SyntaxWarning: invalid escape sequence '\\$'\n",
      "  dataset['Monthly Salary'] = dataset['Monthly Salary'].replace({'\\$': '', ',': ''}, regex=True).astype(float)\n"
     ]
    },
    {
     "name": "stdout",
     "output_type": "stream",
     "text": [
      "  Employee ID  Department Education Level Attrition   Job Role  \\\n",
      "0     EMP2000     Finance             PhD        No    Manager   \n",
      "1     EMP2001  Operations        Master's       Yes    Analyst   \n",
      "2     EMP2002     Finance      Bachelor's        No    Manager   \n",
      "3     EMP2003   Marketing     High School       Yes  Associate   \n",
      "4     EMP2004     Finance     High School        No    Analyst   \n",
      "\n",
      "      Joining Date  Monthly Salary  Performance Rating  Years at Company  \n",
      "0   3/26/2019 0:00          143169                   1                 2  \n",
      "1   4/13/2016 0:00           77777                   1                 6  \n",
      "2    3/9/2021 0:00          128901                   1                 7  \n",
      "3    2/9/2018 0:00           69881                   4                 1  \n",
      "4  10/28/2017 0:00           41044                   5                 6  \n",
      "  Employee ID  Department Education Level  Attrition   Job Role Joining Date  \\\n",
      "0     EMP2000     Finance             PhD          0    Manager   2019-03-26   \n",
      "1     EMP2001  Operations        Master's          1    Analyst   2016-04-13   \n",
      "2     EMP2002     Finance      Bachelor's          0    Manager   2021-03-09   \n",
      "3     EMP2003   Marketing     High School          1  Associate   2018-02-09   \n",
      "4     EMP2004     Finance     High School          0    Analyst   2017-10-28   \n",
      "\n",
      "   Monthly Salary  Performance Rating  Years at Company  Tenure Years  \\\n",
      "0        143169.0                   1                 2             5   \n",
      "1         77777.0                   1                 6             8   \n",
      "2        128901.0                   1                 7             3   \n",
      "3         69881.0                   4                 1             6   \n",
      "4         41044.0                   5                 6             7   \n",
      "\n",
      "  Predictions  \n",
      "0          No  \n",
      "1         Yes  \n",
      "2         Yes  \n",
      "3         Yes  \n",
      "4          No  \n",
      "              precision    recall  f1-score   support\n",
      "\n",
      "           0       0.39      0.31      0.34        52\n",
      "           1       0.39      0.48      0.43        48\n",
      "\n",
      "    accuracy                           0.39       100\n",
      "   macro avg       0.39      0.39      0.39       100\n",
      "weighted avg       0.39      0.39      0.39       100\n",
      "\n"
     ]
    }
   ],
   "source": [
    "import pandas as pd\n",
    "from sklearn.model_selection import train_test_split\n",
    "from sklearn.ensemble import RandomForestClassifier\n",
    "from sklearn.metrics import classification_report\n",
    "from sklearn.preprocessing import LabelEncoder\n",
    "import numpy as np\n",
    "\n",
    "# Load dataset\n",
    "dataset = pd.read_csv(\"HR_Employee_Data_ml.csv\")\n",
    "\n",
    "# Display first few rows to inspect the data\n",
    "print(dataset.head())\n",
    "\n",
    "# Data Preprocessing\n",
    "\n",
    "# 1. Convert 'Monthly Salary' to numeric by removing '$' and ',' if necessary\n",
    "dataset['Monthly Salary'] = dataset['Monthly Salary'].replace({'\\$': '', ',': ''}, regex=True).astype(float)\n",
    "\n",
    "# 2. Convert 'Joining Date' to tenure in years\n",
    "dataset['Joining Date'] = pd.to_datetime(dataset['Joining Date'], errors='coerce')\n",
    "dataset['Tenure Years'] = (pd.to_datetime('today') - dataset['Joining Date']).dt.days // 365\n",
    "\n",
    "# 3. Encode categorical variables (e.g., Department, Education Level, Job Role, Attrition)\n",
    "label_encoders = {}\n",
    "categorical_columns = ['Department', 'Education Level', 'Job Role', 'Attrition']\n",
    "\n",
    "# Encode each categorical column\n",
    "for col in categorical_columns:\n",
    "    label_encoders[col] = LabelEncoder()\n",
    "    dataset[col] = label_encoders[col].fit_transform(dataset[col])\n",
    "\n",
    "# Select features (we’ll use some columns based on the dataset provided)\n",
    "features = ['Monthly Salary', 'Performance Rating', 'Tenure Years', 'Department', 'Education Level', 'Job Role']\n",
    "X = dataset[features]\n",
    "\n",
    "# Target variable: Attrition (already encoded as 0 = No, 1 = Yes)\n",
    "y = dataset['Attrition']\n",
    "\n",
    "# 4. Split the data into training and testing sets\n",
    "X_train, X_test, y_train, y_test = train_test_split(X, y, test_size=0.2, random_state=42)\n",
    "\n",
    "# 5. Train a model (RandomForest for example)\n",
    "model = RandomForestClassifier(n_estimators=100, random_state=42)\n",
    "model.fit(X_train, y_train)\n",
    "\n",
    "# 6. Generate predictions on the entire dataset\n",
    "dataset['Predictions'] = model.predict(X)\n",
    "\n",
    "# 7. Reverse the encoding of categorical columns\n",
    "for col in categorical_columns:\n",
    "    if col != 'Attrition':  # We don't need to reverse the 'Attrition' column for now\n",
    "        dataset[col] = label_encoders[col].inverse_transform(dataset[col])\n",
    "\n",
    "# Reverse the encoding of the 'Predictions' column (Attrition - 0/1 to Yes/No)\n",
    "dataset['Predictions'] = dataset['Predictions'].map({0: 'No', 1: 'Yes'})\n",
    "\n",
    "# 8. Save the modified dataset with readable categorical names\n",
    "dataset.to_csv(\"future_predictions_with_names.csv\", index=False)\n",
    "\n",
    "# Display the first few rows of the modified dataset with readable categorical names\n",
    "print(dataset.head())\n",
    "\n",
    "# Evaluate model performance (for testing purposes)\n",
    "y_pred = model.predict(X_test)\n",
    "print(classification_report(y_test, y_pred))\n"
   ]
  },
  {
   "cell_type": "code",
   "execution_count": null,
   "id": "9404d3eb-d2dc-438d-b2ba-bb07df0d5c58",
   "metadata": {
    "collapsed": true,
    "jupyter": {
     "outputs_hidden": true
    }
   },
   "outputs": [],
   "source": [
    "\n"
   ]
  }
 ],
 "metadata": {
  "kernelspec": {
   "display_name": "Python 3 (ipykernel)",
   "language": "python",
   "name": "python3"
  },
  "language_info": {
   "codemirror_mode": {
    "name": "ipython",
    "version": 3
   },
   "file_extension": ".py",
   "mimetype": "text/x-python",
   "name": "python",
   "nbconvert_exporter": "python",
   "pygments_lexer": "ipython3",
   "version": "3.12.4"
  }
 },
 "nbformat": 4,
 "nbformat_minor": 5
}
