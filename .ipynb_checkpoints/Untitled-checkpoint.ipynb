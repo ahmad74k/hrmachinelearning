{
 "cells": [
  {
   "cell_type": "code",
   "execution_count": 1,
   "id": "66511cc2-12c8-4e7e-ae15-7c51f3fca25b",
   "metadata": {},
   "outputs": [
    {
     "name": "stdout",
     "output_type": "stream",
     "text": [
      "  Employee ID  Department Education Level Attrition   Job Role  \\\n",
      "0     EMP2000     Finance             PhD        No    Manager   \n",
      "1     EMP2001  Operations        Master's       Yes    Analyst   \n",
      "2     EMP2002     Finance      Bachelor's        No    Manager   \n",
      "3     EMP2003   Marketing     High School       Yes  Associate   \n",
      "4     EMP2004     Finance     High School        No    Analyst   \n",
      "\n",
      "      Joining Date Monthly Salary  Performance Rating  Years at Company  \n",
      "0   3/26/2019 0:00      $143,169                    1                 2  \n",
      "1   4/13/2016 0:00       $77,777                    1                 6  \n",
      "2    3/9/2021 0:00      $128,901                    1                 7  \n",
      "3    2/9/2018 0:00       $69,881                    4                 1  \n",
      "4  10/28/2017 0:00       $41,044                    5                 6  \n"
     ]
    }
   ],
   "source": [
    "import pandas as pd\n",
    "from sklearn.model_selection import train_test_split\n",
    "from sklearn.ensemble import RandomForestClassifier\n",
    "from sklearn.metrics import accuracy_score, classification_report\n",
    "from sklearn.preprocessing import LabelEncoder\n",
    "\n",
    "# Load the data\n",
    "data = pd.read_csv('HR_Employee_Data_ml.csv')\n",
    "print(data.head())\n"
   ]
  },
  {
   "cell_type": "code",
   "execution_count": 2,
   "id": "f234636c-d41c-4edc-bf7d-d669373e3b3e",
   "metadata": {
    "collapsed": true,
    "jupyter": {
     "outputs_hidden": true
    }
   },
   "outputs": [
    {
     "name": "stdout",
     "output_type": "stream",
     "text": [
      "0    143169.0\n",
      "1     77777.0\n",
      "2    128901.0\n",
      "3     69881.0\n",
      "4     41044.0\n",
      "Name: Monthly Salary, dtype: float64\n",
      "  Employee ID  Department Education Level Attrition   Job Role  \\\n",
      "0     EMP2000     Finance             PhD        No    Manager   \n",
      "1     EMP2001  Operations        Master's       Yes    Analyst   \n",
      "2     EMP2002     Finance      Bachelor's        No    Manager   \n",
      "3     EMP2003   Marketing     High School       Yes  Associate   \n",
      "4     EMP2004     Finance     High School        No    Analyst   \n",
      "\n",
      "      Joining Date  Monthly Salary  Performance Rating  Years at Company  \n",
      "0   3/26/2019 0:00        143169.0                   1                 2  \n",
      "1   4/13/2016 0:00         77777.0                   1                 6  \n",
      "2    3/9/2021 0:00        128901.0                   1                 7  \n",
      "3    2/9/2018 0:00         69881.0                   4                 1  \n",
      "4  10/28/2017 0:00         41044.0                   5                 6  \n"
     ]
    },
    {
     "name": "stderr",
     "output_type": "stream",
     "text": [
      "<>:2: SyntaxWarning: invalid escape sequence '\\$'\n",
      "<>:2: SyntaxWarning: invalid escape sequence '\\$'\n",
      "C:\\Users\\BI\\AppData\\Local\\Temp\\ipykernel_11024\\2925318089.py:2: SyntaxWarning: invalid escape sequence '\\$'\n",
      "  data['Monthly Salary'] = data['Monthly Salary'].replace({'\\$': '', ',': ''}, regex=True).astype(float)\n"
     ]
    }
   ],
   "source": [
    "import pandas as pd\n",
    "from sklearn.preprocessing import LabelEncoder, StandardScaler\n",
    "from sklearn.model_selection import train_test_split\n",
    "\n",
    "# Load the dataset\n",
    "dataset = pd.read_csv('HR_Employee_Data_ml.csv')\n",
    "\n",
    "# Handle missing values (optional, depends on dataset)\n",
    "# You can fill or drop missing values depending on your preference\n",
    "dataset = dataset.dropna()  # Drop rows with missing values\n",
    "\n",
    "# Convert \"Joining Date\" to number of years since joining\n",
    "dataset['Joining Date'] = pd.to_datetime(dataset['Joining Date'])\n",
    "dataset['Years Since Joining'] = (pd.to_datetime('today') - dataset['Joining Date']).dt.days / 365\n",
    "\n",
    "# Convert 'Monthly Salary' to numerical values (remove $ and commas)\n",
    "dataset['Monthly Salary'] = dataset['Monthly Salary'].replace({'\\$': '', ',': ''}, regex=True).astype(float)\n",
    "\n",
    "# Encode categorical variables (e.g., Department, Education Level, Job Role, Attrition)\n",
    "label_encoder = LabelEncoder()\n",
    "\n",
    "dataset['Department'] = label_encoder.fit_transform(dataset['Department'])\n",
    "dataset['Education Level'] = label_encoder.fit_transform(dataset['Education Level'])\n",
    "dataset['Job Role'] = label_encoder.fit_transform(dataset['Job Role'])\n",
    "dataset['Attrition'] = label_encoder.fit_transform(dataset['Attrition'])\n",
    "\n",
    "# Feature scaling for numerical columns\n",
    "scaler = StandardScaler()\n",
    "numerical_cols = ['Monthly Salary', 'Performance Rating', 'Years at Company', 'Years Since Joining']\n",
    "dataset[numerical_cols] = scaler.fit_transform(dataset[numerical_cols])\n",
    "\n",
    "# Display the first few rows to check\n",
    "print(dataset.head())\n",
    "\n",
    "# Optional: Save preprocessed data for future use\n",
    "# dataset.to_csv(\"C:\\\\Users\\\\BI\\\\Documents\\\\powerbi_projects\\\\hrPBIml\\\\preprocessed_data.csv\", index=False)\n"
   ]
  },
  {
   "cell_type": "code",
   "execution_count": null,
   "id": "9404d3eb-d2dc-438d-b2ba-bb07df0d5c58",
   "metadata": {
    "collapsed": true,
    "jupyter": {
     "outputs_hidden": true
    }
   },
   "outputs": [],
   "source": [
    "\n"
   ]
  }
 ],
 "metadata": {
  "kernelspec": {
   "display_name": "Python 3 (ipykernel)",
   "language": "python",
   "name": "python3"
  },
  "language_info": {
   "codemirror_mode": {
    "name": "ipython",
    "version": 3
   },
   "file_extension": ".py",
   "mimetype": "text/x-python",
   "name": "python",
   "nbconvert_exporter": "python",
   "pygments_lexer": "ipython3",
   "version": "3.12.4"
  }
 },
 "nbformat": 4,
 "nbformat_minor": 5
}
